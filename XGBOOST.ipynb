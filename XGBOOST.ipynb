{
 "cells": [
  {
   "cell_type": "markdown",
   "metadata": {},
   "source": [
    "## Importing Required Libraries"
   ]
  },
  {
   "cell_type": "code",
   "execution_count": 28,
   "metadata": {},
   "outputs": [],
   "source": [
    "import pandas as pd\n",
    "import seaborn as sns\n",
    "import matplotlib.pyplot as plt\n",
    "import xgboost as xgb\n",
    "from sklearn.model_selection import train_test_split\n",
    "from sklearn.metrics import mean_squared_error, r2_score\n",
    "from sklearn.model_selection import GridSearchCV\n",
    "from sklearn.preprocessing import LabelEncoder"
   ]
  },
  {
   "cell_type": "markdown",
   "metadata": {},
   "source": [
    "## Reading the dataset using pandas"
   ]
  },
  {
   "cell_type": "code",
   "execution_count": 192,
   "metadata": {},
   "outputs": [
    {
     "data": {
      "text/html": [
       "<div>\n",
       "<style scoped>\n",
       "    .dataframe tbody tr th:only-of-type {\n",
       "        vertical-align: middle;\n",
       "    }\n",
       "\n",
       "    .dataframe tbody tr th {\n",
       "        vertical-align: top;\n",
       "    }\n",
       "\n",
       "    .dataframe thead th {\n",
       "        text-align: right;\n",
       "    }\n",
       "</style>\n",
       "<table border=\"1\" class=\"dataframe\">\n",
       "  <thead>\n",
       "    <tr style=\"text-align: right;\">\n",
       "      <th></th>\n",
       "      <th>name</th>\n",
       "      <th>a</th>\n",
       "      <th>e</th>\n",
       "      <th>i</th>\n",
       "      <th>om</th>\n",
       "      <th>w</th>\n",
       "      <th>q</th>\n",
       "      <th>ad</th>\n",
       "      <th>per_y</th>\n",
       "      <th>data_arc</th>\n",
       "      <th>...</th>\n",
       "      <th>UB</th>\n",
       "      <th>IR</th>\n",
       "      <th>spec_B</th>\n",
       "      <th>spec_T</th>\n",
       "      <th>G</th>\n",
       "      <th>moid</th>\n",
       "      <th>class</th>\n",
       "      <th>n</th>\n",
       "      <th>per</th>\n",
       "      <th>ma</th>\n",
       "    </tr>\n",
       "  </thead>\n",
       "  <tbody>\n",
       "    <tr>\n",
       "      <th>0</th>\n",
       "      <td>Ceres</td>\n",
       "      <td>2.769165</td>\n",
       "      <td>0.076009</td>\n",
       "      <td>10.594067</td>\n",
       "      <td>80.305532</td>\n",
       "      <td>73.597694</td>\n",
       "      <td>2.558684</td>\n",
       "      <td>2.979647</td>\n",
       "      <td>4.608202</td>\n",
       "      <td>8822.0</td>\n",
       "      <td>...</td>\n",
       "      <td>0.426</td>\n",
       "      <td>NaN</td>\n",
       "      <td>C</td>\n",
       "      <td>G</td>\n",
       "      <td>0.12</td>\n",
       "      <td>1.594780</td>\n",
       "      <td>MBA</td>\n",
       "      <td>0.213885</td>\n",
       "      <td>1683.145708</td>\n",
       "      <td>77.372096</td>\n",
       "    </tr>\n",
       "    <tr>\n",
       "      <th>1</th>\n",
       "      <td>Pallas</td>\n",
       "      <td>2.772466</td>\n",
       "      <td>0.230337</td>\n",
       "      <td>34.836234</td>\n",
       "      <td>173.080063</td>\n",
       "      <td>310.048857</td>\n",
       "      <td>2.133865</td>\n",
       "      <td>3.411067</td>\n",
       "      <td>4.616444</td>\n",
       "      <td>72318.0</td>\n",
       "      <td>...</td>\n",
       "      <td>0.284</td>\n",
       "      <td>NaN</td>\n",
       "      <td>B</td>\n",
       "      <td>B</td>\n",
       "      <td>0.11</td>\n",
       "      <td>1.233240</td>\n",
       "      <td>MBA</td>\n",
       "      <td>0.213503</td>\n",
       "      <td>1686.155999</td>\n",
       "      <td>59.699133</td>\n",
       "    </tr>\n",
       "    <tr>\n",
       "      <th>2</th>\n",
       "      <td>Juno</td>\n",
       "      <td>2.669150</td>\n",
       "      <td>0.256942</td>\n",
       "      <td>12.988919</td>\n",
       "      <td>169.852760</td>\n",
       "      <td>248.138626</td>\n",
       "      <td>1.983332</td>\n",
       "      <td>3.354967</td>\n",
       "      <td>4.360814</td>\n",
       "      <td>72684.0</td>\n",
       "      <td>...</td>\n",
       "      <td>0.433</td>\n",
       "      <td>NaN</td>\n",
       "      <td>Sk</td>\n",
       "      <td>S</td>\n",
       "      <td>0.32</td>\n",
       "      <td>1.034540</td>\n",
       "      <td>MBA</td>\n",
       "      <td>0.226019</td>\n",
       "      <td>1592.787285</td>\n",
       "      <td>34.925016</td>\n",
       "    </tr>\n",
       "    <tr>\n",
       "      <th>3</th>\n",
       "      <td>Vesta</td>\n",
       "      <td>2.361418</td>\n",
       "      <td>0.088721</td>\n",
       "      <td>7.141771</td>\n",
       "      <td>103.810804</td>\n",
       "      <td>150.728541</td>\n",
       "      <td>2.151909</td>\n",
       "      <td>2.570926</td>\n",
       "      <td>3.628837</td>\n",
       "      <td>24288.0</td>\n",
       "      <td>...</td>\n",
       "      <td>0.492</td>\n",
       "      <td>NaN</td>\n",
       "      <td>V</td>\n",
       "      <td>V</td>\n",
       "      <td>0.32</td>\n",
       "      <td>1.139480</td>\n",
       "      <td>MBA</td>\n",
       "      <td>0.271609</td>\n",
       "      <td>1325.432765</td>\n",
       "      <td>95.861936</td>\n",
       "    </tr>\n",
       "    <tr>\n",
       "      <th>4</th>\n",
       "      <td>Astraea</td>\n",
       "      <td>2.574249</td>\n",
       "      <td>0.191095</td>\n",
       "      <td>5.366988</td>\n",
       "      <td>141.576605</td>\n",
       "      <td>358.687607</td>\n",
       "      <td>2.082324</td>\n",
       "      <td>3.066174</td>\n",
       "      <td>4.130323</td>\n",
       "      <td>63507.0</td>\n",
       "      <td>...</td>\n",
       "      <td>0.411</td>\n",
       "      <td>NaN</td>\n",
       "      <td>S</td>\n",
       "      <td>S</td>\n",
       "      <td>NaN</td>\n",
       "      <td>1.095890</td>\n",
       "      <td>MBA</td>\n",
       "      <td>0.238632</td>\n",
       "      <td>1508.600458</td>\n",
       "      <td>282.366289</td>\n",
       "    </tr>\n",
       "    <tr>\n",
       "      <th>...</th>\n",
       "      <td>...</td>\n",
       "      <td>...</td>\n",
       "      <td>...</td>\n",
       "      <td>...</td>\n",
       "      <td>...</td>\n",
       "      <td>...</td>\n",
       "      <td>...</td>\n",
       "      <td>...</td>\n",
       "      <td>...</td>\n",
       "      <td>...</td>\n",
       "      <td>...</td>\n",
       "      <td>...</td>\n",
       "      <td>...</td>\n",
       "      <td>...</td>\n",
       "      <td>...</td>\n",
       "      <td>...</td>\n",
       "      <td>...</td>\n",
       "      <td>...</td>\n",
       "      <td>...</td>\n",
       "      <td>...</td>\n",
       "      <td>...</td>\n",
       "    </tr>\n",
       "    <tr>\n",
       "      <th>839709</th>\n",
       "      <td>NaN</td>\n",
       "      <td>2.812945</td>\n",
       "      <td>0.664688</td>\n",
       "      <td>4.695700</td>\n",
       "      <td>183.310012</td>\n",
       "      <td>234.618352</td>\n",
       "      <td>0.943214</td>\n",
       "      <td>4.682676</td>\n",
       "      <td>4.717914</td>\n",
       "      <td>17298.0</td>\n",
       "      <td>...</td>\n",
       "      <td>NaN</td>\n",
       "      <td>NaN</td>\n",
       "      <td>NaN</td>\n",
       "      <td>NaN</td>\n",
       "      <td>NaN</td>\n",
       "      <td>0.032397</td>\n",
       "      <td>APO</td>\n",
       "      <td>0.208911</td>\n",
       "      <td>1723.217927</td>\n",
       "      <td>156.905910</td>\n",
       "    </tr>\n",
       "    <tr>\n",
       "      <th>839710</th>\n",
       "      <td>NaN</td>\n",
       "      <td>2.645238</td>\n",
       "      <td>0.259376</td>\n",
       "      <td>12.574937</td>\n",
       "      <td>1.620020</td>\n",
       "      <td>339.568072</td>\n",
       "      <td>1.959126</td>\n",
       "      <td>3.331350</td>\n",
       "      <td>4.302346</td>\n",
       "      <td>16.0</td>\n",
       "      <td>...</td>\n",
       "      <td>NaN</td>\n",
       "      <td>NaN</td>\n",
       "      <td>NaN</td>\n",
       "      <td>NaN</td>\n",
       "      <td>NaN</td>\n",
       "      <td>0.956145</td>\n",
       "      <td>MBA</td>\n",
       "      <td>0.229090</td>\n",
       "      <td>1571.431965</td>\n",
       "      <td>13.366251</td>\n",
       "    </tr>\n",
       "    <tr>\n",
       "      <th>839711</th>\n",
       "      <td>NaN</td>\n",
       "      <td>2.373137</td>\n",
       "      <td>0.202053</td>\n",
       "      <td>0.732484</td>\n",
       "      <td>176.499082</td>\n",
       "      <td>198.026527</td>\n",
       "      <td>1.893638</td>\n",
       "      <td>2.852636</td>\n",
       "      <td>3.655884</td>\n",
       "      <td>5.0</td>\n",
       "      <td>...</td>\n",
       "      <td>NaN</td>\n",
       "      <td>NaN</td>\n",
       "      <td>NaN</td>\n",
       "      <td>NaN</td>\n",
       "      <td>NaN</td>\n",
       "      <td>0.893896</td>\n",
       "      <td>MBA</td>\n",
       "      <td>0.269600</td>\n",
       "      <td>1335.311579</td>\n",
       "      <td>355.351127</td>\n",
       "    </tr>\n",
       "    <tr>\n",
       "      <th>839712</th>\n",
       "      <td>NaN</td>\n",
       "      <td>2.260404</td>\n",
       "      <td>0.258348</td>\n",
       "      <td>9.661947</td>\n",
       "      <td>204.512448</td>\n",
       "      <td>148.496988</td>\n",
       "      <td>1.676433</td>\n",
       "      <td>2.844376</td>\n",
       "      <td>3.398501</td>\n",
       "      <td>10.0</td>\n",
       "      <td>...</td>\n",
       "      <td>NaN</td>\n",
       "      <td>NaN</td>\n",
       "      <td>NaN</td>\n",
       "      <td>NaN</td>\n",
       "      <td>NaN</td>\n",
       "      <td>0.680220</td>\n",
       "      <td>MBA</td>\n",
       "      <td>0.290018</td>\n",
       "      <td>1241.302609</td>\n",
       "      <td>15.320134</td>\n",
       "    </tr>\n",
       "    <tr>\n",
       "      <th>839713</th>\n",
       "      <td>NaN</td>\n",
       "      <td>2.546442</td>\n",
       "      <td>0.287672</td>\n",
       "      <td>5.356238</td>\n",
       "      <td>70.709555</td>\n",
       "      <td>273.483265</td>\n",
       "      <td>1.813901</td>\n",
       "      <td>3.278983</td>\n",
       "      <td>4.063580</td>\n",
       "      <td>11.0</td>\n",
       "      <td>...</td>\n",
       "      <td>NaN</td>\n",
       "      <td>NaN</td>\n",
       "      <td>NaN</td>\n",
       "      <td>NaN</td>\n",
       "      <td>NaN</td>\n",
       "      <td>0.815280</td>\n",
       "      <td>MBA</td>\n",
       "      <td>0.242551</td>\n",
       "      <td>1484.222588</td>\n",
       "      <td>20.432959</td>\n",
       "    </tr>\n",
       "  </tbody>\n",
       "</table>\n",
       "<p>839714 rows × 31 columns</p>\n",
       "</div>"
      ],
      "text/plain": [
       "           name         a         e          i          om           w  \\\n",
       "0         Ceres  2.769165  0.076009  10.594067   80.305532   73.597694   \n",
       "1        Pallas  2.772466  0.230337  34.836234  173.080063  310.048857   \n",
       "2          Juno  2.669150  0.256942  12.988919  169.852760  248.138626   \n",
       "3         Vesta  2.361418  0.088721   7.141771  103.810804  150.728541   \n",
       "4       Astraea  2.574249  0.191095   5.366988  141.576605  358.687607   \n",
       "...         ...       ...       ...        ...         ...         ...   \n",
       "839709      NaN  2.812945  0.664688   4.695700  183.310012  234.618352   \n",
       "839710      NaN  2.645238  0.259376  12.574937    1.620020  339.568072   \n",
       "839711      NaN  2.373137  0.202053   0.732484  176.499082  198.026527   \n",
       "839712      NaN  2.260404  0.258348   9.661947  204.512448  148.496988   \n",
       "839713      NaN  2.546442  0.287672   5.356238   70.709555  273.483265   \n",
       "\n",
       "               q        ad     per_y  data_arc  ...     UB  IR  spec_B spec_T  \\\n",
       "0       2.558684  2.979647  4.608202    8822.0  ...  0.426 NaN       C      G   \n",
       "1       2.133865  3.411067  4.616444   72318.0  ...  0.284 NaN       B      B   \n",
       "2       1.983332  3.354967  4.360814   72684.0  ...  0.433 NaN      Sk      S   \n",
       "3       2.151909  2.570926  3.628837   24288.0  ...  0.492 NaN       V      V   \n",
       "4       2.082324  3.066174  4.130323   63507.0  ...  0.411 NaN       S      S   \n",
       "...          ...       ...       ...       ...  ...    ...  ..     ...    ...   \n",
       "839709  0.943214  4.682676  4.717914   17298.0  ...    NaN NaN     NaN    NaN   \n",
       "839710  1.959126  3.331350  4.302346      16.0  ...    NaN NaN     NaN    NaN   \n",
       "839711  1.893638  2.852636  3.655884       5.0  ...    NaN NaN     NaN    NaN   \n",
       "839712  1.676433  2.844376  3.398501      10.0  ...    NaN NaN     NaN    NaN   \n",
       "839713  1.813901  3.278983  4.063580      11.0  ...    NaN NaN     NaN    NaN   \n",
       "\n",
       "           G      moid class         n          per          ma  \n",
       "0       0.12  1.594780   MBA  0.213885  1683.145708   77.372096  \n",
       "1       0.11  1.233240   MBA  0.213503  1686.155999   59.699133  \n",
       "2       0.32  1.034540   MBA  0.226019  1592.787285   34.925016  \n",
       "3       0.32  1.139480   MBA  0.271609  1325.432765   95.861936  \n",
       "4        NaN  1.095890   MBA  0.238632  1508.600458  282.366289  \n",
       "...      ...       ...   ...       ...          ...         ...  \n",
       "839709   NaN  0.032397   APO  0.208911  1723.217927  156.905910  \n",
       "839710   NaN  0.956145   MBA  0.229090  1571.431965   13.366251  \n",
       "839711   NaN  0.893896   MBA  0.269600  1335.311579  355.351127  \n",
       "839712   NaN  0.680220   MBA  0.290018  1241.302609   15.320134  \n",
       "839713   NaN  0.815280   MBA  0.242551  1484.222588   20.432959  \n",
       "\n",
       "[839714 rows x 31 columns]"
      ]
     },
     "execution_count": 192,
     "metadata": {},
     "output_type": "execute_result"
    }
   ],
   "source": [
    "data = pd.read_csv(r'./Asteroid_Updated.csv', low_memory=False)\n",
    "data"
   ]
  },
  {
   "cell_type": "markdown",
   "metadata": {},
   "source": [
    "## Finding Null Values"
   ]
  },
  {
   "cell_type": "code",
   "execution_count": 193,
   "metadata": {
    "scrolled": false
   },
   "outputs": [
    {
     "data": {
      "text/plain": [
       "name              0.973840\n",
       "a                 0.000002\n",
       "e                 0.000000\n",
       "i                 0.000000\n",
       "om                0.000000\n",
       "w                 0.000000\n",
       "q                 0.000000\n",
       "ad                0.000007\n",
       "per_y             0.000001\n",
       "data_arc          0.018428\n",
       "condition_code    0.001032\n",
       "n_obs_used        0.000000\n",
       "H                 0.003202\n",
       "neo               0.000007\n",
       "pha               0.019580\n",
       "diameter          0.836092\n",
       "extent            0.999979\n",
       "albedo            0.837553\n",
       "rot_per           0.977616\n",
       "GM                0.999983\n",
       "BV                0.998784\n",
       "UB                0.998834\n",
       "IR                0.999999\n",
       "spec_B            0.998016\n",
       "spec_T            0.998833\n",
       "G                 0.999858\n",
       "moid              0.019580\n",
       "class             0.000000\n",
       "n                 0.000002\n",
       "per               0.000007\n",
       "ma                0.000010\n",
       "dtype: float64"
      ]
     },
     "execution_count": 193,
     "metadata": {},
     "output_type": "execute_result"
    }
   ],
   "source": [
    "data.isnull().mean()"
   ]
  },
  {
   "cell_type": "markdown",
   "metadata": {},
   "source": [
    "## Removing Rows with null target values(Diameter) *As suggested in the research paper*"
   ]
  },
  {
   "cell_type": "code",
   "execution_count": 194,
   "metadata": {},
   "outputs": [],
   "source": [
    "train_data = data[data['diameter'].notna()]"
   ]
  },
  {
   "cell_type": "code",
   "execution_count": 195,
   "metadata": {
    "scrolled": false
   },
   "outputs": [
    {
     "data": {
      "text/plain": [
       "name              0.890116\n",
       "a                 0.000000\n",
       "e                 0.000000\n",
       "i                 0.000000\n",
       "om                0.000000\n",
       "w                 0.000000\n",
       "q                 0.000000\n",
       "ad                0.000000\n",
       "per_y             0.000000\n",
       "data_arc          0.001003\n",
       "condition_code    0.000000\n",
       "n_obs_used        0.000000\n",
       "H                 0.005427\n",
       "neo               0.000000\n",
       "pha               0.000000\n",
       "diameter          0.000000\n",
       "extent            0.999884\n",
       "albedo            0.008937\n",
       "rot_per           0.918713\n",
       "GM                0.999898\n",
       "BV                0.992698\n",
       "UB                0.992989\n",
       "IR                0.999993\n",
       "spec_B            0.990046\n",
       "spec_T            0.992989\n",
       "G                 0.999135\n",
       "moid              0.000000\n",
       "class             0.000000\n",
       "n                 0.000000\n",
       "per               0.000000\n",
       "ma                0.000000\n",
       "dtype: float64"
      ]
     },
     "execution_count": 195,
     "metadata": {},
     "output_type": "execute_result"
    }
   ],
   "source": [
    "train_data.isnull().mean()"
   ]
  },
  {
   "cell_type": "markdown",
   "metadata": {},
   "source": [
    "### extent, name, rot_per, GM, BV, UB, IR, spec_B, spec_T, G have a significant amount of null values make them unnecessary so we will drop them"
   ]
  },
  {
   "cell_type": "code",
   "execution_count": 196,
   "metadata": {},
   "outputs": [],
   "source": [
    "useless = ['extent', 'name', 'rot_per', 'GM', 'BV', 'UB', 'IR', 'spec_B', 'spec_T', 'G']\n",
    "train_data = train_data.drop(columns = useless)"
   ]
  },
  {
   "cell_type": "markdown",
   "metadata": {},
   "source": [
    "## Filling NA values of data_arc, albedo, H with mean"
   ]
  },
  {
   "cell_type": "code",
   "execution_count": 197,
   "metadata": {},
   "outputs": [],
   "source": [
    "train_data['H'] = train_data['H'].fillna(train_data['H'].mean())\n",
    "train_data['data_arc'] = train_data['data_arc'].fillna(train_data['data_arc'].mean())\n",
    "train_data['albedo'] = train_data['albedo'].fillna(train_data['albedo'].mean())"
   ]
  },
  {
   "cell_type": "markdown",
   "metadata": {},
   "source": [
    "## inspecting the data types of columns"
   ]
  },
  {
   "cell_type": "code",
   "execution_count": 198,
   "metadata": {},
   "outputs": [
    {
     "data": {
      "text/plain": [
       "a                 float64\n",
       "e                 float64\n",
       "i                 float64\n",
       "om                float64\n",
       "w                 float64\n",
       "q                 float64\n",
       "ad                float64\n",
       "per_y             float64\n",
       "data_arc          float64\n",
       "condition_code     object\n",
       "n_obs_used          int64\n",
       "H                 float64\n",
       "neo                object\n",
       "pha                object\n",
       "diameter           object\n",
       "albedo            float64\n",
       "moid              float64\n",
       "class              object\n",
       "n                 float64\n",
       "per               float64\n",
       "ma                float64\n",
       "dtype: object"
      ]
     },
     "execution_count": 198,
     "metadata": {},
     "output_type": "execute_result"
    }
   ],
   "source": [
    "train_data.dtypes"
   ]
  },
  {
   "cell_type": "markdown",
   "metadata": {},
   "source": [
    "## Target variable data type is object so we have to change it to float"
   ]
  },
  {
   "cell_type": "code",
   "execution_count": 199,
   "metadata": {
    "scrolled": true
   },
   "outputs": [],
   "source": [
    "train_data['diameter'] = train_data['diameter'].astype(float)"
   ]
  },
  {
   "cell_type": "markdown",
   "metadata": {},
   "source": [
    "## Statistical Description of the data"
   ]
  },
  {
   "cell_type": "code",
   "execution_count": 200,
   "metadata": {
    "scrolled": false
   },
   "outputs": [
    {
     "data": {
      "text/html": [
       "<div>\n",
       "<style scoped>\n",
       "    .dataframe tbody tr th:only-of-type {\n",
       "        vertical-align: middle;\n",
       "    }\n",
       "\n",
       "    .dataframe tbody tr th {\n",
       "        vertical-align: top;\n",
       "    }\n",
       "\n",
       "    .dataframe thead th {\n",
       "        text-align: right;\n",
       "    }\n",
       "</style>\n",
       "<table border=\"1\" class=\"dataframe\">\n",
       "  <thead>\n",
       "    <tr style=\"text-align: right;\">\n",
       "      <th></th>\n",
       "      <th>a</th>\n",
       "      <th>e</th>\n",
       "      <th>i</th>\n",
       "      <th>om</th>\n",
       "      <th>w</th>\n",
       "      <th>q</th>\n",
       "      <th>ad</th>\n",
       "      <th>per_y</th>\n",
       "      <th>data_arc</th>\n",
       "      <th>n_obs_used</th>\n",
       "      <th>H</th>\n",
       "      <th>diameter</th>\n",
       "      <th>albedo</th>\n",
       "      <th>moid</th>\n",
       "      <th>n</th>\n",
       "      <th>per</th>\n",
       "      <th>ma</th>\n",
       "    </tr>\n",
       "  </thead>\n",
       "  <tbody>\n",
       "    <tr>\n",
       "      <th>count</th>\n",
       "      <td>137636.000000</td>\n",
       "      <td>137636.000000</td>\n",
       "      <td>137636.000000</td>\n",
       "      <td>137636.000000</td>\n",
       "      <td>137636.000000</td>\n",
       "      <td>137636.000000</td>\n",
       "      <td>137636.000000</td>\n",
       "      <td>137636.000000</td>\n",
       "      <td>137636.000000</td>\n",
       "      <td>137636.000000</td>\n",
       "      <td>137636.000000</td>\n",
       "      <td>137636.000000</td>\n",
       "      <td>137636.000000</td>\n",
       "      <td>137636.000000</td>\n",
       "      <td>137636.000000</td>\n",
       "      <td>1.376360e+05</td>\n",
       "      <td>137636.000000</td>\n",
       "    </tr>\n",
       "    <tr>\n",
       "      <th>mean</th>\n",
       "      <td>2.814613</td>\n",
       "      <td>0.145485</td>\n",
       "      <td>10.349182</td>\n",
       "      <td>169.827629</td>\n",
       "      <td>181.904551</td>\n",
       "      <td>2.402609</td>\n",
       "      <td>3.226618</td>\n",
       "      <td>4.884248</td>\n",
       "      <td>8969.818601</td>\n",
       "      <td>675.027740</td>\n",
       "      <td>15.177041</td>\n",
       "      <td>5.483228</td>\n",
       "      <td>0.130066</td>\n",
       "      <td>1.420145</td>\n",
       "      <td>0.219640</td>\n",
       "      <td>1.783972e+03</td>\n",
       "      <td>183.116785</td>\n",
       "    </tr>\n",
       "    <tr>\n",
       "      <th>std</th>\n",
       "      <td>1.522740</td>\n",
       "      <td>0.077573</td>\n",
       "      <td>6.835111</td>\n",
       "      <td>102.713052</td>\n",
       "      <td>103.556464</td>\n",
       "      <td>0.516169</td>\n",
       "      <td>2.896374</td>\n",
       "      <td>25.532565</td>\n",
       "      <td>6162.084652</td>\n",
       "      <td>595.935104</td>\n",
       "      <td>1.403829</td>\n",
       "      <td>9.385735</td>\n",
       "      <td>0.109501</td>\n",
       "      <td>0.512241</td>\n",
       "      <td>0.056980</td>\n",
       "      <td>9.325769e+03</td>\n",
       "      <td>103.411497</td>\n",
       "    </tr>\n",
       "    <tr>\n",
       "      <th>min</th>\n",
       "      <td>0.626226</td>\n",
       "      <td>0.000489</td>\n",
       "      <td>0.021855</td>\n",
       "      <td>0.000738</td>\n",
       "      <td>0.004466</td>\n",
       "      <td>0.081882</td>\n",
       "      <td>0.999956</td>\n",
       "      <td>0.495569</td>\n",
       "      <td>1.000000</td>\n",
       "      <td>5.000000</td>\n",
       "      <td>3.200000</td>\n",
       "      <td>0.002500</td>\n",
       "      <td>0.001000</td>\n",
       "      <td>0.000166</td>\n",
       "      <td>0.000128</td>\n",
       "      <td>1.810067e+02</td>\n",
       "      <td>0.000517</td>\n",
       "    </tr>\n",
       "    <tr>\n",
       "      <th>25%</th>\n",
       "      <td>2.536714</td>\n",
       "      <td>0.089623</td>\n",
       "      <td>5.120506</td>\n",
       "      <td>82.334880</td>\n",
       "      <td>91.947943</td>\n",
       "      <td>2.068948</td>\n",
       "      <td>2.864438</td>\n",
       "      <td>4.040317</td>\n",
       "      <td>6292.000000</td>\n",
       "      <td>215.000000</td>\n",
       "      <td>14.400000</td>\n",
       "      <td>2.770000</td>\n",
       "      <td>0.053000</td>\n",
       "      <td>1.082523</td>\n",
       "      <td>0.181231</td>\n",
       "      <td>1.475726e+03</td>\n",
       "      <td>94.301261</td>\n",
       "    </tr>\n",
       "    <tr>\n",
       "      <th>50%</th>\n",
       "      <td>2.750859</td>\n",
       "      <td>0.138543</td>\n",
       "      <td>9.389963</td>\n",
       "      <td>160.438430</td>\n",
       "      <td>183.669900</td>\n",
       "      <td>2.363897</td>\n",
       "      <td>3.167516</td>\n",
       "      <td>4.562581</td>\n",
       "      <td>7577.000000</td>\n",
       "      <td>496.000000</td>\n",
       "      <td>15.300000</td>\n",
       "      <td>3.956000</td>\n",
       "      <td>0.079000</td>\n",
       "      <td>1.384935</td>\n",
       "      <td>0.216024</td>\n",
       "      <td>1.666483e+03</td>\n",
       "      <td>186.826667</td>\n",
       "    </tr>\n",
       "    <tr>\n",
       "      <th>75%</th>\n",
       "      <td>3.092537</td>\n",
       "      <td>0.191141</td>\n",
       "      <td>13.738588</td>\n",
       "      <td>256.268387</td>\n",
       "      <td>271.762261</td>\n",
       "      <td>2.685811</td>\n",
       "      <td>3.468608</td>\n",
       "      <td>5.438518</td>\n",
       "      <td>9726.000000</td>\n",
       "      <td>984.000000</td>\n",
       "      <td>16.100000</td>\n",
       "      <td>5.742000</td>\n",
       "      <td>0.187000</td>\n",
       "      <td>1.699385</td>\n",
       "      <td>0.243948</td>\n",
       "      <td>1.986419e+03</td>\n",
       "      <td>271.468299</td>\n",
       "    </tr>\n",
       "    <tr>\n",
       "      <th>max</th>\n",
       "      <td>389.145964</td>\n",
       "      <td>0.984348</td>\n",
       "      <td>170.323647</td>\n",
       "      <td>359.990858</td>\n",
       "      <td>359.995174</td>\n",
       "      <td>40.465671</td>\n",
       "      <td>772.201080</td>\n",
       "      <td>7676.742943</td>\n",
       "      <td>72684.000000</td>\n",
       "      <td>9325.000000</td>\n",
       "      <td>29.900000</td>\n",
       "      <td>939.400000</td>\n",
       "      <td>1.000000</td>\n",
       "      <td>39.507000</td>\n",
       "      <td>1.988877</td>\n",
       "      <td>2.803930e+06</td>\n",
       "      <td>359.999979</td>\n",
       "    </tr>\n",
       "  </tbody>\n",
       "</table>\n",
       "</div>"
      ],
      "text/plain": [
       "                   a              e              i             om  \\\n",
       "count  137636.000000  137636.000000  137636.000000  137636.000000   \n",
       "mean        2.814613       0.145485      10.349182     169.827629   \n",
       "std         1.522740       0.077573       6.835111     102.713052   \n",
       "min         0.626226       0.000489       0.021855       0.000738   \n",
       "25%         2.536714       0.089623       5.120506      82.334880   \n",
       "50%         2.750859       0.138543       9.389963     160.438430   \n",
       "75%         3.092537       0.191141      13.738588     256.268387   \n",
       "max       389.145964       0.984348     170.323647     359.990858   \n",
       "\n",
       "                   w              q             ad          per_y  \\\n",
       "count  137636.000000  137636.000000  137636.000000  137636.000000   \n",
       "mean      181.904551       2.402609       3.226618       4.884248   \n",
       "std       103.556464       0.516169       2.896374      25.532565   \n",
       "min         0.004466       0.081882       0.999956       0.495569   \n",
       "25%        91.947943       2.068948       2.864438       4.040317   \n",
       "50%       183.669900       2.363897       3.167516       4.562581   \n",
       "75%       271.762261       2.685811       3.468608       5.438518   \n",
       "max       359.995174      40.465671     772.201080    7676.742943   \n",
       "\n",
       "            data_arc     n_obs_used              H       diameter  \\\n",
       "count  137636.000000  137636.000000  137636.000000  137636.000000   \n",
       "mean     8969.818601     675.027740      15.177041       5.483228   \n",
       "std      6162.084652     595.935104       1.403829       9.385735   \n",
       "min         1.000000       5.000000       3.200000       0.002500   \n",
       "25%      6292.000000     215.000000      14.400000       2.770000   \n",
       "50%      7577.000000     496.000000      15.300000       3.956000   \n",
       "75%      9726.000000     984.000000      16.100000       5.742000   \n",
       "max     72684.000000    9325.000000      29.900000     939.400000   \n",
       "\n",
       "              albedo           moid              n           per  \\\n",
       "count  137636.000000  137636.000000  137636.000000  1.376360e+05   \n",
       "mean        0.130066       1.420145       0.219640  1.783972e+03   \n",
       "std         0.109501       0.512241       0.056980  9.325769e+03   \n",
       "min         0.001000       0.000166       0.000128  1.810067e+02   \n",
       "25%         0.053000       1.082523       0.181231  1.475726e+03   \n",
       "50%         0.079000       1.384935       0.216024  1.666483e+03   \n",
       "75%         0.187000       1.699385       0.243948  1.986419e+03   \n",
       "max         1.000000      39.507000       1.988877  2.803930e+06   \n",
       "\n",
       "                  ma  \n",
       "count  137636.000000  \n",
       "mean      183.116785  \n",
       "std       103.411497  \n",
       "min         0.000517  \n",
       "25%        94.301261  \n",
       "50%       186.826667  \n",
       "75%       271.468299  \n",
       "max       359.999979  "
      ]
     },
     "execution_count": 200,
     "metadata": {},
     "output_type": "execute_result"
    }
   ],
   "source": [
    "train_data.describe()"
   ]
  },
  {
   "cell_type": "markdown",
   "metadata": {},
   "source": [
    "## Correlation between numeric data and diameter"
   ]
  },
  {
   "cell_type": "code",
   "execution_count": 201,
   "metadata": {},
   "outputs": [
    {
     "data": {
      "text/plain": [
       "a             0.144736\n",
       "e            -0.049133\n",
       "i             0.052609\n",
       "om            0.001164\n",
       "w             0.002966\n",
       "q             0.329703\n",
       "ad            0.093430\n",
       "per_y         0.048953\n",
       "data_arc      0.491580\n",
       "n_obs_used    0.385747\n",
       "H            -0.568493\n",
       "diameter      1.000000\n",
       "albedo       -0.107334\n",
       "moid          0.332423\n",
       "n            -0.201023\n",
       "per           0.048953\n",
       "ma            0.009659\n",
       "Name: diameter, dtype: float64"
      ]
     },
     "execution_count": 201,
     "metadata": {},
     "output_type": "execute_result"
    }
   ],
   "source": [
    "corr = train_data.corr()\n",
    "corr['diameter']"
   ]
  },
  {
   "cell_type": "markdown",
   "metadata": {},
   "source": [
    "## plotting numerical data vs diameter"
   ]
  },
  {
   "cell_type": "code",
   "execution_count": 18,
   "metadata": {},
   "outputs": [
    {
     "data": {
      "text/plain": [
       "<matplotlib.collections.PathCollection at 0x1d630040430>"
      ]
     },
     "execution_count": 18,
     "metadata": {},
     "output_type": "execute_result"
    },
    {
     "data": {
      "image/png": "[encoded data removed]",
      "text/plain": [
       "<Figure size 720x432 with 1 Axes>"
      ]
     },
     "metadata": {
      "needs_background": "light"
     },
     "output_type": "display_data"
    }
   ],
   "source": [
    "plt.figure(figsize=(10,6))\n",
    "plt.scatter(train_data['H'],train_data['diameter'])"
   ]
  },
  {
   "cell_type": "code",
   "execution_count": 19,
   "metadata": {},
   "outputs": [
    {
     "data": {
      "text/plain": [
       "<matplotlib.collections.PathCollection at 0x1d62f0ba1f0>"
      ]
     },
     "execution_count": 19,
     "metadata": {},
     "output_type": "execute_result"
    },
    {
     "data": {
      "image/png": "[encoded data removed]",
      "text/plain": [
       "<Figure size 720x432 with 1 Axes>"
      ]
     },
     "metadata": {
      "needs_background": "light"
     },
     "output_type": "display_data"
    }
   ],
   "source": [
    "plt.figure(figsize=(10,6))\n",
    "plt.scatter(train_data['data_arc'],train_data['diameter'])"
   ]
  },
  {
   "cell_type": "code",
   "execution_count": 20,
   "metadata": {
    "scrolled": false
   },
   "outputs": [
    {
     "data": {
      "text/plain": [
       "<matplotlib.collections.PathCollection at 0x1d62f0d0c40>"
      ]
     },
     "execution_count": 20,
     "metadata": {},
     "output_type": "execute_result"
    },
    {
     "data": {
      "image/png": "[encoded data removed]",
      "text/plain": [
       "<Figure size 720x432 with 1 Axes>"
      ]
     },
     "metadata": {
      "needs_background": "light"
     },
     "output_type": "display_data"
    }
   ],
   "source": [
    "plt.figure(figsize=(10,6))\n",
    "plt.scatter(train_data['q'],train_data['diameter'])"
   ]
  },
  {
   "cell_type": "code",
   "execution_count": 21,
   "metadata": {
    "scrolled": false
   },
   "outputs": [
    {
     "data": {
      "text/plain": [
       "<matplotlib.collections.PathCollection at 0x1d62f456760>"
      ]
     },
     "execution_count": 21,
     "metadata": {},
     "output_type": "execute_result"
    },
    {
     "data": {
      "image/png": "[encoded data removed]",
      "text/plain": [
       "<Figure size 720x432 with 1 Axes>"
      ]
     },
     "metadata": {
      "needs_background": "light"
     },
     "output_type": "display_data"
    }
   ],
   "source": [
    "plt.figure(figsize=(10,6))\n",
    "plt.scatter(train_data['moid'],train_data['diameter'])"
   ]
  },
  {
   "cell_type": "code",
   "execution_count": 22,
   "metadata": {
    "scrolled": false
   },
   "outputs": [
    {
     "data": {
      "text/plain": [
       "<matplotlib.collections.PathCollection at 0x1d62f31bb20>"
      ]
     },
     "execution_count": 22,
     "metadata": {},
     "output_type": "execute_result"
    },
    {
     "data": {
      "image/png": "[encoded data removed]",
      "text/plain": [
       "<Figure size 720x432 with 1 Axes>"
      ]
     },
     "metadata": {
      "needs_background": "light"
     },
     "output_type": "display_data"
    }
   ],
   "source": [
    "plt.figure(figsize=(10,6))\n",
    "plt.scatter(train_data['n_obs_used'],train_data['diameter'])"
   ]
  },
  {
   "cell_type": "markdown",
   "metadata": {},
   "source": [
    "## moid and q are almost the same so we can drop one of them"
   ]
  },
  {
   "cell_type": "markdown",
   "metadata": {},
   "source": [
    "## Plotting Categorical Data"
   ]
  },
  {
   "cell_type": "code",
   "execution_count": 100,
   "metadata": {
    "scrolled": false
   },
   "outputs": [
    {
     "data": {
      "text/plain": [
       "<AxesSubplot:xlabel='class', ylabel='diameter'>"
      ]
     },
     "execution_count": 100,
     "metadata": {},
     "output_type": "execute_result"
    },
    {
     "data": {
      "image/png": "[encoded data removed]",
      "text/plain": [
       "<Figure size 1152x864 with 1 Axes>"
      ]
     },
     "metadata": {
      "needs_background": "light"
     },
     "output_type": "display_data"
    },
    {
     "data": {
      "image/png": "[encoded data removed]",
      "text/plain": [
       "<Figure size 1152x864 with 1 Axes>"
      ]
     },
     "metadata": {
      "needs_background": "light"
     },
     "output_type": "display_data"
    },
    {
     "data": {
      "image/png": "[encoded data removed]",
      "text/plain": [
       "<Figure size 1152x864 with 1 Axes>"
      ]
     },
     "metadata": {
      "needs_background": "light"
     },
     "output_type": "display_data"
    },
    {
     "data": {
      "image/png": "[encoded data removed]",
      "text/plain": [
       "<Figure size 1152x864 with 1 Axes>"
      ]
     },
     "metadata": {
      "needs_background": "light"
     },
     "output_type": "display_data"
    }
   ],
   "source": [
    "plt.figure(figsize=(16,12))\n",
    "sns.barplot(x = 'condition_code', y = 'diameter', data=train_data)\n",
    "plt.figure(figsize=(16,12))\n",
    "sns.barplot(x = 'neo', y = 'diameter', data=train_data)\n",
    "plt.figure(figsize=(16,12))\n",
    "sns.barplot(x = 'pha', y = 'diameter', data=train_data)\n",
    "plt.figure(figsize=(16,12))\n",
    "sns.barplot(x = 'class', y = 'diameter', data=train_data)"
   ]
  },
  {
   "cell_type": "markdown",
   "metadata": {},
   "source": [
    "## Label Encoding for the categorical data"
   ]
  },
  {
   "cell_type": "code",
   "execution_count": 206,
   "metadata": {},
   "outputs": [],
   "source": [
    "encode = LabelEncoder()\n",
    "train_data['condition_code'] = encode.fit(train_data['condition_code']).transform(train_data['condition_code'])\n",
    "train_data['neo'] = encode.fit(train_data['neo']).transform(train_data['neo'])\n",
    "train_data['pha'] = encode.fit(train_data['pha']).transform(train_data['pha'])\n",
    "train_data['class'] = encode.fit(train_data['class']).transform(train_data['class'])"
   ]
  },
  {
   "cell_type": "markdown",
   "metadata": {},
   "source": [
    "## Splliting data into feature vector and labels"
   ]
  },
  {
   "cell_type": "code",
   "execution_count": 225,
   "metadata": {},
   "outputs": [],
   "source": [
    "x = train_data.drop(columns=['diameter','q'])\n",
    "y = train_data['diameter']"
   ]
  },
  {
   "cell_type": "markdown",
   "metadata": {},
   "source": [
    "## Creating validation set"
   ]
  },
  {
   "cell_type": "code",
   "execution_count": 226,
   "metadata": {},
   "outputs": [],
   "source": [
    "x_train, x_dev, y_train, y_dev = train_test_split(x, y, test_size = 0.25)"
   ]
  },
  {
   "cell_type": "markdown",
   "metadata": {},
   "source": [
    "## Applying GridSearch for better hyperparameter selection"
   ]
  },
  {
   "cell_type": "code",
   "execution_count": 227,
   "metadata": {},
   "outputs": [],
   "source": [
    "regressor = xgb.XGBRegressor()"
   ]
  },
  {
   "cell_type": "code",
   "execution_count": 229,
   "metadata": {},
   "outputs": [],
   "source": [
    "parameters = {\n",
    "              'learning_rate': [0.05, 0.1],\n",
    "              'max_depth': [5, 6, 7],\n",
    "              'subsample': [0.7, 1],\n",
    "              'colsample_bytree': [0.7, 1],\n",
    "              'n_estimators': [100,500]\n",
    "                    }"
   ]
  },
  {
   "cell_type": "code",
   "execution_count": 230,
   "metadata": {},
   "outputs": [],
   "source": [
    "xgb_grid = GridSearchCV(regressor,\n",
    "                        parameters,\n",
    "                        cv = 3,\n",
    "                        n_jobs = 5,\n",
    "                        verbose=True)"
   ]
  },
  {
   "cell_type": "code",
   "execution_count": 231,
   "metadata": {
    "scrolled": false
   },
   "outputs": [
    {
     "name": "stdout",
     "output_type": "stream",
     "text": [
      "Fitting 3 folds for each of 48 candidates, totalling 144 fits\n"
     ]
    },
    {
     "name": "stderr",
     "output_type": "stream",
     "text": [
      "[Parallel(n_jobs=5)]: Using backend LokyBackend with 5 concurrent workers.\n",
      "[Parallel(n_jobs=5)]: Done  40 tasks      | elapsed:  7.0min\n",
      "[Parallel(n_jobs=5)]: Done 144 out of 144 | elapsed: 33.6min finished\n"
     ]
    },
    {
     "data": {
      "text/plain": [
       "GridSearchCV(cv=3,\n",
       "             estimator=XGBRegressor(base_score=None, booster=None,\n",
       "                                    colsample_bylevel=None,\n",
       "                                    colsample_bynode=None,\n",
       "                                    colsample_bytree=None, gamma=None,\n",
       "                                    gpu_id=None, importance_type='gain',\n",
       "                                    interaction_constraints=None,\n",
       "                                    learning_rate=None, max_delta_step=None,\n",
       "                                    max_depth=None, min_child_weight=None,\n",
       "                                    missing=nan, monotone_constraints=None,\n",
       "                                    n_estimators=100, n_jobs=None,\n",
       "                                    num_parallel_tree=None, random_state=None,\n",
       "                                    reg_alpha=None, reg_lambda=None,\n",
       "                                    scale_pos_weight=None, subsample=None,\n",
       "                                    tree_method=None, validate_parameters=None,\n",
       "                                    verbosity=None),\n",
       "             n_jobs=5,\n",
       "             param_grid={'colsample_bytree': [0.7, 1],\n",
       "                         'learning_rate': [0.05, 0.1], 'max_depth': [5, 6, 7],\n",
       "                         'n_estimators': [100, 500], 'subsample': [0.7, 1]},\n",
       "             verbose=True)"
      ]
     },
     "execution_count": 231,
     "metadata": {},
     "output_type": "execute_result"
    }
   ],
   "source": [
    "xgb_grid.fit(x_train, y_train)"
   ]
  },
  {
   "cell_type": "code",
   "execution_count": 232,
   "metadata": {},
   "outputs": [
    {
     "name": "stdout",
     "output_type": "stream",
     "text": [
      "0.9769715458190643\n",
      "{'colsample_bytree': 1, 'learning_rate': 0.1, 'max_depth': 5, 'n_estimators': 500, 'subsample': 1}\n"
     ]
    }
   ],
   "source": [
    "print(\"Best Score:\", xgb_grid.best_score_)\n",
    "print(\"Best Parameters:\", xgb_grid.best_params_)"
   ]
  },
  {
   "cell_type": "markdown",
   "metadata": {},
   "source": [
    "## Applying the best parameters for regression"
   ]
  },
  {
   "cell_type": "code",
   "execution_count": 245,
   "metadata": {},
   "outputs": [],
   "source": [
    "regressor = xgb.XGBRegressor(learning_rate=0.1, n_estimators= 500, max_depth = 5, subsample =1 )"
   ]
  },
  {
   "cell_type": "markdown",
   "metadata": {},
   "source": [
    "## Creating our XGboost Regression Model"
   ]
  },
  {
   "cell_type": "code",
   "execution_count": 246,
   "metadata": {
    "scrolled": true
   },
   "outputs": [
    {
     "data": {
      "text/plain": [
       "XGBRegressor(base_score=0.5, booster='gbtree', colsample_bylevel=1,\n",
       "             colsample_bynode=1, colsample_bytree=1, gamma=0, gpu_id=-1,\n",
       "             importance_type='gain', interaction_constraints='',\n",
       "             learning_rate=0.1, max_delta_step=0, max_depth=5,\n",
       "             min_child_weight=1, missing=nan, monotone_constraints='()',\n",
       "             n_estimators=500, n_jobs=0, num_parallel_tree=1, random_state=0,\n",
       "             reg_alpha=0, reg_lambda=1, scale_pos_weight=1, subsample=1,\n",
       "             tree_method='exact', validate_parameters=1, verbosity=None)"
      ]
     },
     "execution_count": 246,
     "metadata": {},
     "output_type": "execute_result"
    }
   ],
   "source": [
    "regressor.fit(x_train, y_train)"
   ]
  },
  {
   "cell_type": "markdown",
   "metadata": {},
   "source": [
    "## Evaluating Train Error and R2Score of our model"
   ]
  },
  {
   "cell_type": "code",
   "execution_count": 247,
   "metadata": {},
   "outputs": [],
   "source": [
    "y_train_pred = regressor.predict(x_train)"
   ]
  },
  {
   "cell_type": "code",
   "execution_count": 248,
   "metadata": {},
   "outputs": [
    {
     "name": "stdout",
     "output_type": "stream",
     "text": [
      "Train Mean Squared Error: 0.2716085504671774\n",
      "Train R2-Score: 0.9971199448892674\n"
     ]
    }
   ],
   "source": [
    "train_mse = mean_squared_error(y_train_pred, y_train)\n",
    "train_r2=r2_score(y_train_pred, y_train)\n",
    "print('Train Mean Squared Error:', train_mse)\n",
    "print('Train R2-Score:', train_r2)"
   ]
  },
  {
   "cell_type": "markdown",
   "metadata": {},
   "source": [
    "## Evaluating Validation Error and R2Score"
   ]
  },
  {
   "cell_type": "code",
   "execution_count": 249,
   "metadata": {},
   "outputs": [],
   "source": [
    "y_pred = regressor.predict(x_dev)"
   ]
  },
  {
   "cell_type": "code",
   "execution_count": 250,
   "metadata": {},
   "outputs": [
    {
     "name": "stdout",
     "output_type": "stream",
     "text": [
      "Validation Mean Squared Error: 1.668358259433111\n",
      "Validation R2-Score: 0.9742843963911726\n"
     ]
    }
   ],
   "source": [
    "val_mse = mean_squared_error(y_pred, y_dev)\n",
    "val_r2=r2_score(y_pred, y_dev)\n",
    "print('Validation Mean Squared Error:', val_mse)\n",
    "print('Validation R2-Score:', val_r2)"
   ]
  },
  {
   "cell_type": "markdown",
   "metadata": {},
   "source": [
    "## Plotting results (y_pred vs y_dev)"
   ]
  },
  {
   "cell_type": "code",
   "execution_count": 254,
   "metadata": {},
   "outputs": [
    {
     "data": {
      "text/plain": [
       "<matplotlib.legend.Legend at 0x1d643e3beb0>"
      ]
     },
     "execution_count": 254,
     "metadata": {},
     "output_type": "execute_result"
    },
    {
     "data": {
      "image/png": "[encoded data removed]",
      "text/plain": [
       "<Figure size 1152x864 with 1 Axes>"
      ]
     },
     "metadata": {
      "needs_background": "light"
     },
     "output_type": "display_data"
    }
   ],
   "source": [
    "x = list(range(len(y_pred)))\n",
    "plt.figure(figsize=(16,12))\n",
    "plt.xlabel('index')\n",
    "plt.ylabel('daimeter')\n",
    "plt.plot(x,y_dev,label='actual_diameter')\n",
    "plt.plot(x,y_pred,'r',label='predicted_diameter')\n",
    "plt.legend()"
   ]
  },
  {
   "cell_type": "markdown",
   "metadata": {},
   "source": [
    "## Zooming in Between"
   ]
  },
  {
   "cell_type": "code",
   "execution_count": 259,
   "metadata": {},
   "outputs": [
    {
     "data": {
      "text/plain": [
       "<matplotlib.legend.Legend at 0x1d643cdd160>"
      ]
     },
     "execution_count": 259,
     "metadata": {},
     "output_type": "execute_result"
    },
    {
     "data": {
      "image/png": "[encoded data removed]",
      "text/plain": [
       "<Figure size 1152x864 with 1 Axes>"
      ]
     },
     "metadata": {
      "needs_background": "light"
     },
     "output_type": "display_data"
    }
   ],
   "source": [
    "x = list(range(len(y_pred)))[1000:1100]\n",
    "plt.figure(figsize=(16,12))\n",
    "plt.xlabel('index')\n",
    "plt.ylabel('daimeter')\n",
    "plt.plot(x,y_dev[1000:1100],label='actual_diameter')\n",
    "plt.plot(x,y_pred[1000:1100],'r',label='predicted_diameter')\n",
    "plt.legend()"
   ]
  },
  {
   "cell_type": "markdown",
   "metadata": {},
   "source": [
    "## --The End--"
   ]
  },
  {
   "cell_type": "code",
   "execution_count": null,
   "metadata": {},
   "outputs": [],
   "source": []
  }
 ],
 "metadata": {
  "kernelspec": {
   "display_name": "Python 3",
   "language": "python",
   "name": "python3"
  },
  "language_info": {
   "codemirror_mode": {
    "name": "ipython",
    "version": 3
   },
   "file_extension": ".py",
   "mimetype": "text/x-python",
   "name": "python",
   "nbconvert_exporter": "python",
   "pygments_lexer": "ipython3",
   "version": "3.8.5"
  }
 },
 "nbformat": 4,
 "nbformat_minor": 2
}
